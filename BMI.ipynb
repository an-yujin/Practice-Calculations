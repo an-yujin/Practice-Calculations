{
 "cells": [
  {
   "cell_type": "code",
   "execution_count": null,
   "id": "842286bb-480c-435e-ae57-cbb3a9401e56",
   "metadata": {},
   "outputs": [],
   "source": [
    "def body_mass_index(weight, height):\n",
    "    '''Body Mass Index.\n",
    "    5 points.\n",
    "\n",
    "    This function calculates the body mass index (BMI) of a person\n",
    "        given their weight and height.\n",
    "\n",
    "    The formula for BMI is: kg / (m ^ 2)\n",
    "        (i.e., kilograms over meters squared)\n",
    "\n",
    "    Unfortunately, the users of this function use the imperial system.\n",
    "        You will need to first convert their arguments to the metric system.\n",
    "    \n",
    "    Parameters\n",
    "    ----------\n",
    "    weight: float\n",
    "        the weight of the person, in pounds\n",
    "    height: list\n",
    "        the height of the person, expressed as a list of two integers.\n",
    "        the first integer is the foot component of their height.\n",
    "        the second integer is the inches component of their height.\n",
    "        for example, 5'10\" would be passed as [5, 10].\n",
    "\n",
    "    Returns\n",
    "    -------\n",
    "    float\n",
    "        the BMI of the person.\n",
    "    '''\n",
    "    # Replace `pass` with your code. \n",
    "    # Stay within the function. Only use the parameters as input. The function should return your answer.\n",
    "    height_ft = height[0]\n",
    "    height_in = height[1]\n",
    "    height = [height_ft,height_in]\n",
    "    return(float(((weight/2.205) / (((height_ft*0.3048 + (height_in*0.0254)) ** 2)))))"
   ]
  },
  {
   "cell_type": "code",
   "execution_count": 87,
   "id": "09166035-311b-41b3-9239-d9abd753c0dc",
   "metadata": {},
   "outputs": [
    {
     "data": {
      "text/plain": [
       "25.720176359325414"
      ]
     },
     "execution_count": 87,
     "metadata": {},
     "output_type": "execute_result"
    }
   ],
   "source": [
    "body_mass_index(174.2,[5,9])"
   ]
  },
  {
   "cell_type": "code",
   "execution_count": 88,
   "id": "2a75967c-377d-4ce3-93d7-113d7701dcf7",
   "metadata": {},
   "outputs": [
    {
     "data": {
      "text/plain": [
       "26.918462100207233"
      ]
     },
     "execution_count": 88,
     "metadata": {},
     "output_type": "execute_result"
    }
   ],
   "source": [
    "body_mass_index(171.9,[5,7])"
   ]
  },
  {
   "cell_type": "code",
   "execution_count": 89,
   "id": "46bf8802-2f99-46e5-b917-018dd0319593",
   "metadata": {},
   "outputs": [
    {
     "data": {
      "text/plain": [
       "22.89910441155315"
      ]
     },
     "execution_count": 89,
     "metadata": {},
     "output_type": "execute_result"
    }
   ],
   "source": [
    "body_mass_index(141.9,[5,6])"
   ]
  }
 ],
 "metadata": {
  "kernelspec": {
   "display_name": "Python 3 (ipykernel)",
   "language": "python",
   "name": "python3"
  },
  "language_info": {
   "codemirror_mode": {
    "name": "ipython",
    "version": 3
   },
   "file_extension": ".py",
   "mimetype": "text/x-python",
   "name": "python",
   "nbconvert_exporter": "python",
   "pygments_lexer": "ipython3",
   "version": "3.9.12"
  }
 },
 "nbformat": 4,
 "nbformat_minor": 5
}
